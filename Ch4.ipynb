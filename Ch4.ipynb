{
 "cells": [
  {
   "cell_type": "code",
   "execution_count": 11,
   "metadata": {},
   "outputs": [
    {
     "data": {
      "application/vnd.jupyter.widget-view+json": {
       "model_id": "6b19498c63f2482aa2b1ae134c7088f0",
       "version_major": 2,
       "version_minor": 0
      },
      "text/plain": [
       "interactive(children=(IntSlider(value=16, description='n', max=30, min=3), Output()), _dom_classes=('widget-in…"
      ]
     },
     "metadata": {},
     "output_type": "display_data"
    }
   ],
   "source": [
    "import numpy as np\n",
    "\n",
    "import matplotlib.pyplot as plt\n",
    "%matplotlib inline\n",
    "\n",
    "from ipywidgets import interact\n",
    "\n",
    "def gaussian(x, a, b, c):\n",
    "    return a * np.exp(-b * (x-c)**2)\n",
    "\n",
    "def noisy_gaussian():\n",
    "    # gaussian array y in interval -5 <= x <= 5\n",
    "    nx = 100\n",
    "    x = np.linspace(-5.0, 5.0, nx)\n",
    "    y = gaussian(x, a=2.0, b=0.5, c=1.5)\n",
    "    noise = np.random.normal(0.0, 0.2, nx)\n",
    "    y += noise\n",
    "    return x, y\n",
    "\n",
    "def fit(x, y, n):\n",
    "    pfit = np.polyfit(x, y, n)\n",
    "    yfit = np.polyval(pfit, x)\n",
    "    return yfit\n",
    "\n",
    "def plot(x, y, yfit):\n",
    "    plt.plot(x, y, \"r\", label=\"Data\")\n",
    "    plt.plot(x, yfit, \"b\", label=\"Fit\")\n",
    "    plt.legend()\n",
    "    plt.ylim(-0.5, 2.5)\n",
    "    plt.show()\n",
    "\n",
    "x, y = noisy_gaussian()\n",
    "\n",
    "@interact\n",
    "def slider(n=(3, 30)):\n",
    "    yfit = fit(x, y, n)\n",
    "    plot(x, y, yfit)"
   ]
  },
  {
   "cell_type": "code",
   "execution_count": 3,
   "metadata": {},
   "outputs": [
    {
     "data": {
      "text/plain": [
       "\u001b[0;31mCall signature:\u001b[0m  \u001b[0mnp\u001b[0m\u001b[0;34m.\u001b[0m\u001b[0mexp\u001b[0m\u001b[0;34m(\u001b[0m\u001b[0;34m*\u001b[0m\u001b[0margs\u001b[0m\u001b[0;34m,\u001b[0m \u001b[0;34m**\u001b[0m\u001b[0mkwargs\u001b[0m\u001b[0;34m)\u001b[0m\u001b[0;34m\u001b[0m\u001b[0;34m\u001b[0m\u001b[0m\n",
       "\u001b[0;31mType:\u001b[0m            ufunc\n",
       "\u001b[0;31mString form:\u001b[0m     <ufunc 'exp'>\n",
       "\u001b[0;31mFile:\u001b[0m            ~/opt/anaconda3/lib/python3.7/site-packages/numpy/__init__.py\n",
       "\u001b[0;31mDocstring:\u001b[0m      \n",
       "exp(x, /, out=None, *, where=True, casting='same_kind', order='K', dtype=None, subok=True[, signature, extobj])\n",
       "\n",
       "Calculate the exponential of all elements in the input array.\n",
       "\n",
       "Parameters\n",
       "----------\n",
       "x : array_like\n",
       "    Input values.\n",
       "out : ndarray, None, or tuple of ndarray and None, optional\n",
       "    A location into which the result is stored. If provided, it must have\n",
       "    a shape that the inputs broadcast to. If not provided or None,\n",
       "    a freshly-allocated array is returned. A tuple (possible only as a\n",
       "    keyword argument) must have length equal to the number of outputs.\n",
       "where : array_like, optional\n",
       "    This condition is broadcast over the input. At locations where the\n",
       "    condition is True, the `out` array will be set to the ufunc result.\n",
       "    Elsewhere, the `out` array will retain its original value.\n",
       "    Note that if an uninitialized `out` array is created via the default\n",
       "    ``out=None``, locations within it where the condition is False will\n",
       "    remain uninitialized.\n",
       "**kwargs\n",
       "    For other keyword-only arguments, see the\n",
       "    :ref:`ufunc docs <ufuncs.kwargs>`.\n",
       "\n",
       "Returns\n",
       "-------\n",
       "out : ndarray or scalar\n",
       "    Output array, element-wise exponential of `x`.\n",
       "    This is a scalar if `x` is a scalar.\n",
       "\n",
       "See Also\n",
       "--------\n",
       "expm1 : Calculate ``exp(x) - 1`` for all elements in the array.\n",
       "exp2  : Calculate ``2**x`` for all elements in the array.\n",
       "\n",
       "Notes\n",
       "-----\n",
       "The irrational number ``e`` is also known as Euler's number.  It is\n",
       "approximately 2.718281, and is the base of the natural logarithm,\n",
       "``ln`` (this means that, if :math:`x = \\ln y = \\log_e y`,\n",
       "then :math:`e^x = y`. For real input, ``exp(x)`` is always positive.\n",
       "\n",
       "For complex arguments, ``x = a + ib``, we can write\n",
       ":math:`e^x = e^a e^{ib}`.  The first term, :math:`e^a`, is already\n",
       "known (it is the real argument, described above).  The second term,\n",
       ":math:`e^{ib}`, is :math:`\\cos b + i \\sin b`, a function with\n",
       "magnitude 1 and a periodic phase.\n",
       "\n",
       "References\n",
       "----------\n",
       ".. [1] Wikipedia, \"Exponential function\",\n",
       "       https://en.wikipedia.org/wiki/Exponential_function\n",
       ".. [2] M. Abramovitz and I. A. Stegun, \"Handbook of Mathematical Functions\n",
       "       with Formulas, Graphs, and Mathematical Tables,\" Dover, 1964, p. 69,\n",
       "       http://www.math.sfu.ca/~cbm/aands/page_69.htm\n",
       "\n",
       "Examples\n",
       "--------\n",
       "Plot the magnitude and phase of ``exp(x)`` in the complex plane:\n",
       "\n",
       ">>> import matplotlib.pyplot as plt\n",
       "\n",
       ">>> x = np.linspace(-2*np.pi, 2*np.pi, 100)\n",
       ">>> xx = x + 1j * x[:, np.newaxis] # a + ib over complex plane\n",
       ">>> out = np.exp(xx)\n",
       "\n",
       ">>> plt.subplot(121)\n",
       ">>> plt.imshow(np.abs(out),\n",
       "...            extent=[-2*np.pi, 2*np.pi, -2*np.pi, 2*np.pi], cmap='gray')\n",
       ">>> plt.title('Magnitude of exp(x)')\n",
       "\n",
       ">>> plt.subplot(122)\n",
       ">>> plt.imshow(np.angle(out),\n",
       "...            extent=[-2*np.pi, 2*np.pi, -2*np.pi, 2*np.pi], cmap='hsv')\n",
       ">>> plt.title('Phase (angle) of exp(x)')\n",
       ">>> plt.show()\n",
       "\u001b[0;31mClass docstring:\u001b[0m\n",
       "Functions that operate element by element on whole arrays.\n",
       "\n",
       "To see the documentation for a specific ufunc, use `info`.  For\n",
       "example, ``np.info(np.sin)``.  Because ufuncs are written in C\n",
       "(for speed) and linked into Python with NumPy's ufunc facility,\n",
       "Python's help() function finds this page whenever help() is called\n",
       "on a ufunc.\n",
       "\n",
       "A detailed explanation of ufuncs can be found in the docs for :ref:`ufuncs`.\n",
       "\n",
       "Calling ufuncs:\n",
       "===============\n",
       "\n",
       "op(*x[, out], where=True, **kwargs)\n",
       "Apply `op` to the arguments `*x` elementwise, broadcasting the arguments.\n",
       "\n",
       "The broadcasting rules are:\n",
       "\n",
       "* Dimensions of length 1 may be prepended to either array.\n",
       "* Arrays may be repeated along dimensions of length 1.\n",
       "\n",
       "Parameters\n",
       "----------\n",
       "*x : array_like\n",
       "    Input arrays.\n",
       "out : ndarray, None, or tuple of ndarray and None, optional\n",
       "    Alternate array object(s) in which to put the result; if provided, it\n",
       "    must have a shape that the inputs broadcast to. A tuple of arrays\n",
       "    (possible only as a keyword argument) must have length equal to the\n",
       "    number of outputs; use None for uninitialized outputs to be\n",
       "    allocated by the ufunc.\n",
       "where : array_like, optional\n",
       "    This condition is broadcast over the input. At locations where the\n",
       "    condition is True, the `out` array will be set to the ufunc result.\n",
       "    Elsewhere, the `out` array will retain its original value.\n",
       "    Note that if an uninitialized `out` array is created via the default\n",
       "    ``out=None``, locations within it where the condition is False will\n",
       "    remain uninitialized.\n",
       "**kwargs\n",
       "    For other keyword-only arguments, see the :ref:`ufunc docs <ufuncs.kwargs>`.\n",
       "\n",
       "Returns\n",
       "-------\n",
       "r : ndarray or tuple of ndarray\n",
       "    `r` will have the shape that the arrays in `x` broadcast to; if `out` is\n",
       "    provided, it will be returned. If not, `r` will be allocated and\n",
       "    may contain uninitialized values. If the function has more than one\n",
       "    output, then the result will be a tuple of arrays.\n"
      ]
     },
     "metadata": {},
     "output_type": "display_data"
    }
   ],
   "source": [
    "import numpy as np\n",
    "np.exp?"
   ]
  },
  {
   "cell_type": "code",
   "execution_count": 49,
   "metadata": {},
   "outputs": [],
   "source": [
    "import numpy as np\n",
    "import matplotlib.pyplot as plt\n",
    "import random"
   ]
  },
  {
   "cell_type": "code",
   "execution_count": 50,
   "metadata": {},
   "outputs": [],
   "source": [
    "def step():\n",
    "    return 1. if random.random() > .5 else -1."
   ]
  },
  {
   "cell_type": "code",
   "execution_count": 51,
   "metadata": {},
   "outputs": [],
   "source": [
    "def walk(n):\n",
    "    x = np.zeros(n)\n",
    "    dx = 1. / n\n",
    "    for i in range(n - 1):\n",
    "        x_new = x[i] + dx * step()\n",
    "        if x_new > 5e-3:\n",
    "            x[i + 1] = 0.\n",
    "        else:\n",
    "            x[i + 1] = x_new\n",
    "    return x"
   ]
  },
  {
   "cell_type": "code",
   "execution_count": 52,
   "metadata": {},
   "outputs": [],
   "source": [
    "n = 100000\n",
    "x = walk(n)"
   ]
  },
  {
   "cell_type": "code",
   "execution_count": 53,
   "metadata": {},
   "outputs": [
    {
     "data": {
      "text/plain": [
       "[<matplotlib.lines.Line2D at 0x12072f150>]"
      ]
     },
     "execution_count": 53,
     "metadata": {},
     "output_type": "execute_result"
    },
    {
     "data": {
      "image/png": "[encoded data removed]",
      "text/plain": [
       "<Figure size 432x288 with 1 Axes>"
      ]
     },
     "metadata": {
      "needs_background": "light"
     },
     "output_type": "display_data"
    }
   ],
   "source": [
    "plt.plot(x)"
   ]
  },
  {
   "cell_type": "code",
   "execution_count": 54,
   "metadata": {},
   "outputs": [
    {
     "name": "stdout",
     "output_type": "stream",
     "text": [
      "51.2 ms ± 650 µs per loop (mean ± std. dev. of 7 runs, 10 loops each)\n"
     ]
    },
    {
     "data": {
      "text/plain": [
       "0.05021951370001716"
      ]
     },
     "execution_count": 54,
     "metadata": {},
     "output_type": "execute_result"
    }
   ],
   "source": [
    "t1 = %timeit -o walk(n)\n",
    "t1.best"
   ]
  },
  {
   "cell_type": "code",
   "execution_count": 55,
   "metadata": {},
   "outputs": [
    {
     "name": "stdout",
     "output_type": "stream",
     "text": [
      " "
     ]
    },
    {
     "data": {
      "text/plain": [
       "         200003 function calls in 0.087 seconds\n",
       "\n",
       "   Ordered by: internal time\n",
       "\n",
       "   ncalls  tottime  percall  cumtime  percall filename:lineno(function)\n",
       "        1    0.061    0.061    0.087    0.087 <ipython-input-51-94fe46e3b455>:1(walk)\n",
       "    99999    0.020    0.000    0.026    0.000 <ipython-input-50-52961148e468>:1(step)\n",
       "    99999    0.006    0.000    0.006    0.000 {method 'random' of '_random.Random' objects}\n",
       "        1    0.000    0.000    0.000    0.000 {built-in method numpy.zeros}\n",
       "        1    0.000    0.000    0.087    0.087 {built-in method builtins.exec}\n",
       "        1    0.000    0.000    0.087    0.087 <string>:1(<module>)\n",
       "        1    0.000    0.000    0.000    0.000 {method 'disable' of '_lsprof.Profiler' objects}"
      ]
     },
     "metadata": {},
     "output_type": "display_data"
    }
   ],
   "source": [
    "%%prun\n",
    "walk(n)"
   ]
  },
  {
   "cell_type": "code",
   "execution_count": 38,
   "metadata": {},
   "outputs": [
    {
     "name": "stdout",
     "output_type": "stream",
     "text": [
      "Collecting line_profiler\n",
      "  Downloading line_profiler-3.0.2.tar.gz (45 kB)\n",
      "\u001b[K     |████████████████████████████████| 45 kB 396 kB/s eta 0:00:01\n",
      "\u001b[?25h  Installing build dependencies ... \u001b[?25ldone\n",
      "\u001b[?25h  Getting requirements to build wheel ... \u001b[?25ldone\n",
      "\u001b[?25h    Preparing wheel metadata ... \u001b[?25ldone\n",
      "\u001b[?25hRequirement already satisfied: IPython in /Users/maksymej/opt/anaconda3/lib/python3.7/site-packages (from line_profiler) (7.12.0)\n",
      "Requirement already satisfied: decorator in /Users/maksymej/opt/anaconda3/lib/python3.7/site-packages (from IPython->line_profiler) (4.4.1)\n",
      "Requirement already satisfied: pygments in /Users/maksymej/opt/anaconda3/lib/python3.7/site-packages (from IPython->line_profiler) (2.5.2)\n",
      "Requirement already satisfied: pickleshare in /Users/maksymej/opt/anaconda3/lib/python3.7/site-packages (from IPython->line_profiler) (0.7.5)\n",
      "Requirement already satisfied: backcall in /Users/maksymej/opt/anaconda3/lib/python3.7/site-packages (from IPython->line_profiler) (0.1.0)\n",
      "Requirement already satisfied: prompt-toolkit!=3.0.0,!=3.0.1,<3.1.0,>=2.0.0 in /Users/maksymej/opt/anaconda3/lib/python3.7/site-packages (from IPython->line_profiler) (3.0.3)\n",
      "Requirement already satisfied: pexpect; sys_platform != \"win32\" in /Users/maksymej/opt/anaconda3/lib/python3.7/site-packages (from IPython->line_profiler) (4.8.0)\n",
      "Requirement already satisfied: jedi>=0.10 in /Users/maksymej/opt/anaconda3/lib/python3.7/site-packages (from IPython->line_profiler) (0.14.1)\n",
      "Requirement already satisfied: appnope; sys_platform == \"darwin\" in /Users/maksymej/opt/anaconda3/lib/python3.7/site-packages (from IPython->line_profiler) (0.1.0)\n",
      "Requirement already satisfied: traitlets>=4.2 in /Users/maksymej/opt/anaconda3/lib/python3.7/site-packages (from IPython->line_profiler) (4.3.3)\n",
      "Requirement already satisfied: setuptools>=18.5 in /Users/maksymej/opt/anaconda3/lib/python3.7/site-packages (from IPython->line_profiler) (46.0.0.post20200309)\n",
      "Requirement already satisfied: wcwidth in /Users/maksymej/opt/anaconda3/lib/python3.7/site-packages (from prompt-toolkit!=3.0.0,!=3.0.1,<3.1.0,>=2.0.0->IPython->line_profiler) (0.1.8)\n",
      "Requirement already satisfied: ptyprocess>=0.5 in /Users/maksymej/opt/anaconda3/lib/python3.7/site-packages (from pexpect; sys_platform != \"win32\"->IPython->line_profiler) (0.6.0)\n",
      "Requirement already satisfied: parso>=0.5.0 in /Users/maksymej/opt/anaconda3/lib/python3.7/site-packages (from jedi>=0.10->IPython->line_profiler) (0.5.2)\n",
      "Requirement already satisfied: ipython-genutils in /Users/maksymej/opt/anaconda3/lib/python3.7/site-packages (from traitlets>=4.2->IPython->line_profiler) (0.2.0)\n",
      "Requirement already satisfied: six in /Users/maksymej/opt/anaconda3/lib/python3.7/site-packages (from traitlets>=4.2->IPython->line_profiler) (1.14.0)\n",
      "Building wheels for collected packages: line-profiler\n",
      "  Building wheel for line-profiler (PEP 517) ... \u001b[?25ldone\n",
      "\u001b[?25h  Created wheel for line-profiler: filename=line_profiler-3.0.2-cp37-cp37m-macosx_10_15_x86_64.whl size=55561 sha256=3717bbd5090ef25bdb31c8fee567c877024431bb467f97d1f4427c65743b682d\n",
      "  Stored in directory: /Users/maksymej/Library/Caches/pip/wheels/20/28/5c/69ef18a2dc224b4230d6b88e9c0721ec7d3bb425b71d3248ce\n",
      "Successfully built line-profiler\n",
      "Installing collected packages: line-profiler\n",
      "Successfully installed line-profiler-3.0.2\n"
     ]
    }
   ],
   "source": [
    "!pip install line_profiler"
   ]
  },
  {
   "cell_type": "code",
   "execution_count": 39,
   "metadata": {},
   "outputs": [],
   "source": [
    "%load_ext line_profiler"
   ]
  },
  {
   "cell_type": "code",
   "execution_count": 41,
   "metadata": {},
   "outputs": [
    {
     "data": {
      "text/plain": [
       "\u001b[0;31mDocstring:\u001b[0m\n",
       "Execute a statement under the line-by-line profiler from the\n",
       "line_profiler module.\n",
       "\n",
       "Usage:\n",
       "  %lprun -f func1 -f func2 <statement>\n",
       "\n",
       "The given statement (which doesn't require quote marks) is run via the\n",
       "LineProfiler. Profiling is enabled for the functions specified by the -f\n",
       "options. The statistics will be shown side-by-side with the code through the\n",
       "pager once the statement has completed.\n",
       "\n",
       "Options:\n",
       "\n",
       "-f <function>: LineProfiler only profiles functions and methods it is told\n",
       "to profile.  This option tells the profiler about these functions. Multiple\n",
       "-f options may be used. The argument may be any expression that gives\n",
       "a Python function or method object. However, one must be careful to avoid\n",
       "spaces that may confuse the option parser.\n",
       "\n",
       "-m <module>: Get all the functions/methods in a module\n",
       "\n",
       "One or more -f or -m options are required to get any useful results.\n",
       "\n",
       "-D <filename>: dump the raw statistics out to a pickle file on disk. The\n",
       "usual extension for this is \".lprof\". These statistics may be viewed later\n",
       "by running line_profiler.py as a script.\n",
       "\n",
       "-T <filename>: dump the text-formatted statistics with the code side-by-side\n",
       "out to a text file.\n",
       "\n",
       "-r: return the LineProfiler object after it has completed profiling.\n",
       "\n",
       "-s: strip out all entries from the print-out that have zeros.\n",
       "\n",
       "-u: specify time unit for the print-out in seconds.\n",
       "\u001b[0;31mFile:\u001b[0m      ~/opt/anaconda3/lib/python3.7/site-packages/line_profiler/line_profiler.py\n"
      ]
     },
     "metadata": {},
     "output_type": "display_data"
    }
   ],
   "source": [
    "%lprun?"
   ]
  },
  {
   "cell_type": "code",
   "execution_count": 56,
   "metadata": {},
   "outputs": [
    {
     "data": {
      "text/plain": [
       "Timer unit: 1e-06 s\n",
       "\n",
       "Total time: 0.228566 s\n",
       "File: <ipython-input-51-94fe46e3b455>\n",
       "Function: walk at line 1\n",
       "\n",
       "Line #      Hits         Time  Per Hit   % Time  Line Contents\n",
       "==============================================================\n",
       "     1                                           def walk(n):\n",
       "     2         1         83.0     83.0      0.0      x = np.zeros(n)\n",
       "     3         1          2.0      2.0      0.0      dx = 1. / n\n",
       "     4    100000      36227.0      0.4     15.8      for i in range(n - 1):\n",
       "     5     99999     103202.0      1.0     45.2          x_new = x[i] + dx * step()\n",
       "     6     99999      43245.0      0.4     18.9          if x_new > 5e-3:\n",
       "     7                                                       x[i + 1] = 0.\n",
       "     8                                                   else:\n",
       "     9     99999      45806.0      0.5     20.0              x[i + 1] = x_new\n",
       "    10         1          1.0      1.0      0.0      return x"
      ]
     },
     "metadata": {},
     "output_type": "display_data"
    }
   ],
   "source": [
    "%lprun -f walk walk(n)"
   ]
  },
  {
   "cell_type": "code",
   "execution_count": 57,
   "metadata": {},
   "outputs": [
    {
     "data": {
      "text/plain": [
       "Timer unit: 1e-06 s\n",
       "\n",
       "Total time: 0.04175 s\n",
       "File: <ipython-input-50-52961148e468>\n",
       "Function: step at line 1\n",
       "\n",
       "Line #      Hits         Time  Per Hit   % Time  Line Contents\n",
       "==============================================================\n",
       "     1                                           def step():\n",
       "     2     99999      41750.0      0.4    100.0      return 1. if random.random() > .5 else -1."
      ]
     },
     "metadata": {},
     "output_type": "display_data"
    }
   ],
   "source": [
    "%lprun -f step walk(n)"
   ]
  },
  {
   "cell_type": "code",
   "execution_count": 62,
   "metadata": {},
   "outputs": [
    {
     "data": {
      "text/plain": [
       "\u001b[0;31mType:\u001b[0m        module\n",
       "\u001b[0;31mString form:\u001b[0m <module 'ipywidgets' from '/Users/maksymej/opt/anaconda3/lib/python3.7/site-packages/ipywidgets/__init__.py'>\n",
       "\u001b[0;31mFile:\u001b[0m        ~/opt/anaconda3/lib/python3.7/site-packages/ipywidgets/__init__.py\n",
       "\u001b[0;31mDocstring:\u001b[0m  \n",
       "Interactive widgets for the Jupyter notebook.\n",
       "\n",
       "Provide simple interactive controls in the notebook.\n",
       "Each Widget corresponds to an object in Python and Javascript,\n",
       "with controls on the page.\n",
       "\n",
       "To put a Widget on the page, you can display it with IPython's display machinery::\n",
       "\n",
       "    from ipywidgets import IntSlider\n",
       "    from IPython.display import display\n",
       "    slider = IntSlider(min=1, max=10)\n",
       "    display(slider)\n",
       "\n",
       "Moving the slider will change the value. Most Widgets have a current value,\n",
       "accessible as a `value` attribute.\n"
      ]
     },
     "metadata": {},
     "output_type": "display_data"
    }
   ],
   "source": [
    "ipywidgets?"
   ]
  },
  {
   "cell_type": "code",
   "execution_count": 61,
   "metadata": {},
   "outputs": [],
   "source": [
    "import ipywidgets"
   ]
  },
  {
   "cell_type": "code",
   "execution_count": null,
   "metadata": {},
   "outputs": [],
   "source": []
  }
 ],
 "metadata": {
  "kernelspec": {
   "display_name": "Python 3",
   "language": "python",
   "name": "python3"
  },
  "language_info": {
   "codemirror_mode": {
    "name": "ipython",
    "version": 3
   },
   "file_extension": ".py",
   "mimetype": "text/x-python",
   "name": "python",
   "nbconvert_exporter": "python",
   "pygments_lexer": "ipython3",
   "version": "3.7.6"
  }
 },
 "nbformat": 4,
 "nbformat_minor": 4
}
